{
 "cells": [
  {
   "cell_type": "markdown",
   "metadata": {},
   "source": [
    "### 1. Importing Packages\n",
    "In this first cell, we will import the libraries and packages we will be using in this project and print their version numbers.  This is an important step to make sure we are all on the same page; furthermore, it will help others reproduce the results we obtain. "
   ]
  },
  {
   "cell_type": "code",
   "execution_count": 11,
   "metadata": {},
   "outputs": [
    {
     "name": "stdout",
     "output_type": "stream",
     "text": [
      "Python: 3.8.3 (v3.8.3:6f8c8320e9, May 13 2020, 16:29:34) \n",
      "[Clang 6.0 (clang-600.0.57)]\n",
      "Keras: 2.4.3\n",
      "OpenCV: 4.2.0\n",
      "NumPy: 1.18.5\n",
      "Matplotlib: 3.2.2\n",
      "Scikit-Image: 0.17.2\n"
     ]
    }
   ],
   "source": [
    "# Check package versions\n",
    "import sys\n",
    "import keras\n",
    "import cv2\n",
    "import numpy\n",
    "import matplotlib\n",
    "import skimage\n",
    "\n",
    "import warnings\n",
    "warnings.filterwarnings('ignore')\n",
    "\n",
    "print('Python: {}'.format(sys.version))\n",
    "print('Keras: {}'.format(keras.__version__))\n",
    "print('OpenCV: {}'.format(cv2.__version__))\n",
    "print('NumPy: {}'.format(numpy.__version__))\n",
    "print('Matplotlib: {}'.format(matplotlib.__version__))\n",
    "print('Scikit-Image: {}'.format(skimage.__version__))"
   ]
  },
  {
   "cell_type": "code",
   "execution_count": 2,
   "metadata": {},
   "outputs": [],
   "source": [
    "# Import the necessary packages\n",
    "from keras.models import Sequential\n",
    "from keras.layers import Conv2D\n",
    "from keras.optimizers import Adam\n",
    "from skimage.measure import compare_ssim as ssim\n",
    "from matplotlib import pyplot as plt\n",
    "import cv2\n",
    "import numpy as np\n",
    "import math\n",
    "import os\n",
    "\n",
    "# Python magic function, displays pyplot figures in the notebook\n",
    "%matplotlib inline"
   ]
  },
  {
   "cell_type": "markdown",
   "metadata": {},
   "source": [
    "### 2. Image Quality Metrics\n",
    "To start, lets define a couple of functions that we can use to calculate the PSNR, MSE, and SSIM.  The structural similiarity (SSIM) index was imported directly from the scikit-image library; however, we will have to define our own functions for the PSNR and MSE.  Furthermore, we will wrap all three of these metrics into a single function that we can call later.    "
   ]
  },
  {
   "cell_type": "code",
   "execution_count": 3,
   "metadata": {},
   "outputs": [],
   "source": [
    "# Define a function for peak signal-to-noise ratio (PSNR)\n",
    "def psnr(target, ref):\n",
    "         \n",
    "    # Assume RGB image\n",
    "    target_data = target.astype(float)\n",
    "    ref_data = ref.astype(float)\n",
    "\n",
    "    diff = ref_data - target_data\n",
    "    diff = diff.flatten('C')\n",
    "\n",
    "    rmse = math.sqrt(np.mean(diff ** 2.))\n",
    "\n",
    "    return 20 * math.log10(255. / rmse)\n",
    "\n",
    "# Define function for mean squared error (MSE)\n",
    "def mse(target, ref):\n",
    "    # The MSE between the two images is the sum of the squared difference between the two images\n",
    "    err = np.sum((target.astype('float') - ref.astype('float')) ** 2)\n",
    "    err /= float(target.shape[0] * target.shape[1])\n",
    "    \n",
    "    return err\n",
    "\n",
    "# Define function that combines all three image quality metrics\n",
    "def compare_images(target, ref):\n",
    "    scores = []\n",
    "    scores.append(psnr(target, ref))\n",
    "    scores.append(mse(target, ref))\n",
    "    scores.append(ssim(target, ref, multichannel = True))\n",
    "    \n",
    "    return scores\n"
   ]
  },
  {
   "cell_type": "markdown",
   "metadata": {},
   "source": [
    "### 3. Preparing Images\n",
    "\n",
    "For this project, we will be using the same images that were used in the original SRCNN paper.  We can download these images from http://mmlab.ie.cuhk.edu.hk/projects/SRCNN.html.  The .zip file identified as the MATLAB code contains the images we want.  Copy both the Set5 and Set14 datasets into a new folder called 'source'. \n",
    "\n",
    "Now that we have some images, we want to produce low resolution versions of these same images.  We can accomplish this by resizing the images, both downwards and upwards, using OpeCV. There are several interpolation methods that can be used to resize images; however, we will be using bilinear interpolation.  \n",
    "\n",
    "Once we produce these low resolution images, we can save them in a new folder."
   ]
  },
  {
   "cell_type": "code",
   "execution_count": 8,
   "metadata": {},
   "outputs": [],
   "source": [
    "# Prepare degraded images by introducing quality distortions via resizing\n",
    "\n",
    "def prepare_images(path, factor):\n",
    "    \n",
    "    # Loop through the files in the directory\n",
    "    for file in os.listdir(path):\n",
    "        \n",
    "        # Open the file\n",
    "        img = cv2.imread(path + '/' + file)\n",
    "        \n",
    "        # Find old and new image dimensions\n",
    "        h, w, _ = img.shape\n",
    "        new_height = h / factor\n",
    "        new_width = w / factor\n",
    "        \n",
    "        # Resize the image - down\n",
    "        img = cv2.resize(img, (int(new_width), int(new_height)), interpolation = cv2.INTER_LINEAR)\n",
    "        \n",
    "        # Resize the image - up\n",
    "        img = cv2.resize(img, (w, h), interpolation = cv2.INTER_LINEAR)\n",
    "        \n",
    "        # Save the image\n",
    "        print('Saving {}'.format(file))\n",
    "        cv2.imwrite('images/{}'.format(file), img)"
   ]
  },
  {
   "cell_type": "code",
   "execution_count": 9,
   "metadata": {},
   "outputs": [
    {
     "name": "stdout",
     "output_type": "stream",
     "text": [
      "Saving foreman.bmp\n",
      "Saving woman_GT.bmp\n",
      "Saving pepper.bmp\n",
      "Saving comic.bmp\n",
      "Saving coastguard.bmp\n",
      "Saving butterfly_GT.bmp\n",
      "Saving baboon.bmp\n",
      "Saving bird_GT.bmp\n",
      "Saving monarch.bmp\n",
      "Saving flowers.bmp\n",
      "Saving face.bmp\n",
      "Saving head_GT.bmp\n",
      "Saving baby_GT.bmp\n",
      "Saving ppt3.bmp\n",
      "Saving zebra.bmp\n",
      "Saving barbara.bmp\n",
      "Saving lenna.bmp\n"
     ]
    }
   ],
   "source": [
    "prepare_images('source/', 2)"
   ]
  },
  {
   "cell_type": "markdown",
   "metadata": {},
   "source": [
    "### 3. Testing Low Resolution Images\n",
    "\n",
    "To ensure that our image quality metrics are being calculated correctly and that the images were effectively degraded, lets calculate the PSNR, MSE, and SSIM between our reference images and the degraded images that we just prepared.  "
   ]
  },
  {
   "cell_type": "code",
   "execution_count": 12,
   "metadata": {
    "scrolled": true
   },
   "outputs": [
    {
     "name": "stdout",
     "output_type": "stream",
     "text": [
      "foreman.bmp\n",
      "PSNR: 30.14456532664372\n",
      "MSE: 188.6883483270202\n",
      "SSIM: 0.933268417388899\n",
      "\n",
      "woman_GT.bmp\n",
      "PSNR: 29.326236280817465\n",
      "MSE: 227.812729498164\n",
      "SSIM: 0.9335397280466592\n",
      "\n",
      "pepper.bmp\n",
      "PSNR: 29.88947161686106\n",
      "MSE: 200.1033935546875\n",
      "SSIM: 0.8357937568464359\n",
      "\n",
      "comic.bmp\n",
      "PSNR: 23.799861502225532\n",
      "MSE: 813.2338836565096\n",
      "SSIM: 0.8347335416398209\n",
      "\n",
      "coastguard.bmp\n",
      "PSNR: 27.161600663887082\n",
      "MSE: 375.00887784090907\n",
      "SSIM: 0.756950063354931\n",
      "\n",
      "butterfly_GT.bmp\n",
      "PSNR: 24.782076560337416\n",
      "MSE: 648.6254119873047\n",
      "SSIM: 0.8791344763843051\n",
      "\n",
      "baboon.bmp\n",
      "PSNR: 22.157084083442548\n",
      "MSE: 1187.1161333333334\n",
      "SSIM: 0.629277587900277\n",
      "\n",
      "bird_GT.bmp\n",
      "PSNR: 32.896644728720005\n",
      "MSE: 100.12375819830247\n",
      "SSIM: 0.9533644866026473\n",
      "\n",
      "monarch.bmp\n",
      "PSNR: 30.196242365288896\n",
      "MSE: 186.45643615722656\n",
      "SSIM: 0.9439574293434104\n",
      "\n",
      "flowers.bmp\n",
      "PSNR: 27.454504805386147\n",
      "MSE: 350.55093922651935\n",
      "SSIM: 0.8697286286974628\n",
      "\n",
      "face.bmp\n",
      "PSNR: 30.99220650287191\n",
      "MSE: 155.23189718546524\n",
      "SSIM: 0.8008439492289884\n",
      "\n",
      "head_GT.bmp\n",
      "PSNR: 31.020502848237534\n",
      "MSE: 154.2237755102041\n",
      "SSIM: 0.8011121330733371\n",
      "\n",
      "baby_GT.bmp\n",
      "PSNR: 34.37180640966199\n",
      "MSE: 71.28874588012695\n",
      "SSIM: 0.9356987872724932\n",
      "\n",
      "ppt3.bmp\n",
      "PSNR: 24.84926168950471\n",
      "MSE: 638.6684263912582\n",
      "SSIM: 0.9284023942315316\n",
      "\n",
      "zebra.bmp\n",
      "PSNR: 27.909840639329513\n",
      "MSE: 315.6585459528818\n",
      "SSIM: 0.8911656209329116\n",
      "\n",
      "barbara.bmp\n",
      "PSNR: 25.906629837568126\n",
      "MSE: 500.65508535879627\n",
      "SSIM: 0.8098632646406401\n",
      "\n",
      "lenna.bmp\n",
      "PSNR: 31.47349297867539\n",
      "MSE: 138.94800567626953\n",
      "SSIM: 0.8460989200521499\n",
      "\n"
     ]
    }
   ],
   "source": [
    "# Test the generated images using the image quality metrics\n",
    "\n",
    "for file in os.listdir('images/'):\n",
    "    \n",
    "    # Open target and reference images\n",
    "    target = cv2.imread('images/{}'.format(file))\n",
    "    ref = cv2.imread('source/{}'.format(file))\n",
    "    \n",
    "    # Calculate score\n",
    "    scores = compare_images(target, ref)\n",
    "\n",
    "    # Print all three scores with new line characters (\\n) \n",
    "    print('{}\\nPSNR: {}\\nMSE: {}\\nSSIM: {}\\n'.format(file, scores[0], scores[1], scores[2]))"
   ]
  }
 ],
 "metadata": {
  "kernelspec": {
   "display_name": "Python 3.8.3 64-bit",
   "language": "python",
   "name": "python38364bit318c18dddd514cd39be74badcdeb021b"
  },
  "language_info": {
   "codemirror_mode": {
    "name": "ipython",
    "version": 3
   },
   "file_extension": ".py",
   "mimetype": "text/x-python",
   "name": "python",
   "nbconvert_exporter": "python",
   "pygments_lexer": "ipython3",
   "version": "3.8.3"
  }
 },
 "nbformat": 4,
 "nbformat_minor": 4
}
